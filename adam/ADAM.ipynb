{
 "cells": [
  {
   "cell_type": "markdown",
   "metadata": {
    "slideshow": {
     "slide_type": "slide"
    }
   },
   "source": [
    "# Run ADAM \n",
    "\n",
    "The model ADAM (Annual Danish Aggregate Model)is a model of the Danish\n",
    "economy maintained and developed by Danmarks Statistik.  A Link to the model: https://www.dst.dk/pubomtale/18836. It has 4624 equations \n",
    "\n",
    "Danmarks Statistik has kindly provided the model version JUN17X and an associated databank for this demo. \n",
    "\n",
    "The model and databank is not the current model and forecast, but serves as an example. \n",
    "\n",
    "This is a basic demo. However you can use all the features of ModelFlow to manipulate the model.  "
   ]
  },
  {
   "cell_type": "markdown",
   "metadata": {
    "slideshow": {
     "slide_type": "slide"
    }
   },
   "source": [
    "## Import ModelFlow and Pandas"
   ]
  },
  {
   "cell_type": "code",
   "execution_count": 1,
   "metadata": {
    "slideshow": {
     "slide_type": "-"
    }
   },
   "outputs": [],
   "source": [
    "import pandas as pd\n",
    "from ipywidgets import interact,Dropdown,Checkbox\n",
    "\n",
    "\n",
    "from IPython.display import display    # , clear_output\n",
    "\n",
    "from modelclass import model \n",
    "import modeljupyter as mj\n",
    "import modelvis as mv"
   ]
  },
  {
   "cell_type": "markdown",
   "metadata": {
    "slideshow": {
     "slide_type": "slide"
    }
   },
   "source": [
    "## Read model and databank"
   ]
  },
  {
   "cell_type": "code",
   "execution_count": 2,
   "metadata": {
    "slideshow": {
     "slide_type": "-"
    }
   },
   "outputs": [],
   "source": [
    "fadam = open('adam/jul17x.txt','rt').read()\n",
    "bank  = pd.read_pickle('adam/lang100_2017.pc') "
   ]
  },
  {
   "cell_type": "markdown",
   "metadata": {
    "slideshow": {
     "slide_type": "slide"
    }
   },
   "source": [
    "## Make a model instance "
   ]
  },
  {
   "cell_type": "code",
   "execution_count": 3,
   "metadata": {},
   "outputs": [],
   "source": [
    "turbo = 1     # if you set turbo=1 the model will be compiled, it takes time but specd the running up \n",
    "madam = model(fadam,modelname='ADAM')    "
   ]
  },
  {
   "cell_type": "markdown",
   "metadata": {
    "slideshow": {
     "slide_type": "slide"
    }
   },
   "source": [
    "## Run the Baseline "
   ]
  },
  {
   "cell_type": "code",
   "execution_count": 4,
   "metadata": {},
   "outputs": [
    {
     "name": "stdout",
     "output_type": "stream",
     "text": [
      "Compiling chunk 1/29      15:20:39\n",
      "Compiling chunk 2/29      15:20:40\n",
      "Compiling chunk 3/29      15:20:41\n",
      "Compiling chunk 4/29      15:20:41\n",
      "Compiling chunk 5/29      15:20:42\n",
      "Compiling chunk 6/29      15:20:43\n",
      "Compiling chunk 7/29      15:20:43\n",
      "Compiling chunk 8/29      15:20:44\n",
      "Compiling chunk 9/29      15:20:45\n",
      "Compiling chunk 10/29      15:20:45\n",
      "Compiling chunk 11/29      15:20:46\n",
      "Compiling chunk 12/29      15:20:47\n",
      "Compiling chunk 13/29      15:20:47\n",
      "Compiling chunk 14/29      15:20:48\n",
      "Compiling chunk 15/29      15:20:49\n",
      "Compiling chunk 16/29      15:20:50\n",
      "Compiling chunk 17/29      15:20:50\n",
      "Compiling chunk 18/29      15:20:51\n",
      "Compiling chunk 19/29      15:20:52\n",
      "Compiling chunk 20/29      15:20:53\n",
      "Compiling chunk 21/29      15:20:54\n",
      "Compiling chunk 22/29      15:20:55\n",
      "Compiling chunk 23/29      15:20:59\n",
      "Compiling chunk 24/29      15:21:00\n",
      "Compiling chunk 25/29      15:21:02\n",
      "Compiling chunk 26/29      15:21:04\n",
      "Compiling chunk 27/29      15:21:06\n",
      "Compiling chunk 28/29      15:21:08\n",
      "Compiling chunk 29/29      15:21:10\n",
      "Compiling a mastersolver      15:21:10\n",
      "Compiling chunk 1/58      15:21:11\n",
      "Compiling chunk 2/58      15:21:16\n",
      "Compiling chunk 3/58      15:21:18\n",
      "Compiling chunk 4/58      15:21:22\n",
      "Compiling chunk 5/58      15:21:25\n",
      "Compiling chunk 6/58      15:21:28\n",
      "Compiling chunk 7/58      15:21:31\n",
      "Compiling chunk 8/58      15:21:33\n",
      "Compiling chunk 9/58      15:21:36\n",
      "Compiling chunk 10/58      15:21:39\n",
      "Compiling chunk 11/58      15:21:42\n",
      "Compiling chunk 12/58      15:21:45\n",
      "Compiling chunk 13/58      15:21:48\n",
      "Compiling chunk 14/58      15:21:49\n",
      "Compiling chunk 15/58      15:21:50\n",
      "Compiling chunk 16/58      15:21:53\n",
      "Compiling chunk 17/58      15:21:55\n",
      "Compiling chunk 18/58      15:21:56\n",
      "Compiling chunk 19/58      15:21:57\n",
      "Compiling chunk 20/58      15:21:58\n",
      "Compiling chunk 21/58      15:22:00\n",
      "Compiling chunk 22/58      15:22:03\n",
      "Compiling chunk 23/58      15:22:08\n",
      "Compiling chunk 24/58      15:22:16\n",
      "Compiling chunk 25/58      15:22:21\n",
      "Compiling chunk 26/58      15:22:27\n",
      "Compiling chunk 27/58      15:22:31\n",
      "Compiling chunk 28/58      15:22:32\n",
      "Compiling chunk 29/58      15:22:33\n",
      "Compiling chunk 30/58      15:22:38\n",
      "Compiling chunk 31/58      15:22:44\n",
      "Compiling chunk 32/58      15:22:46\n",
      "Compiling chunk 33/58      15:22:47\n",
      "Compiling chunk 34/58      15:22:50\n",
      "Compiling chunk 35/58      15:22:52\n",
      "Compiling chunk 36/58      15:22:53\n",
      "Compiling chunk 37/58      15:22:55\n",
      "Compiling chunk 38/58      15:22:56\n",
      "Compiling chunk 39/58      15:22:57\n",
      "Compiling chunk 40/58      15:23:01\n",
      "Compiling chunk 41/58      15:23:05\n",
      "Compiling chunk 42/58      15:23:08\n",
      "Compiling chunk 43/58      15:23:09\n",
      "Compiling chunk 44/58      15:23:10\n",
      "Compiling chunk 45/58      15:23:13\n",
      "Compiling chunk 46/58      15:23:16\n",
      "Compiling chunk 47/58      15:23:18\n",
      "Compiling chunk 48/58      15:23:20\n",
      "Compiling chunk 49/58      15:23:22\n",
      "Compiling chunk 50/58      15:23:25\n",
      "Compiling chunk 51/58      15:23:27\n",
      "Compiling chunk 52/58      15:23:28\n",
      "Compiling chunk 53/58      15:23:30\n",
      "Compiling chunk 54/58      15:23:32\n",
      "Compiling chunk 55/58      15:23:34\n",
      "Compiling chunk 56/58      15:23:36\n",
      "Compiling chunk 57/58      15:23:38\n",
      "Compiling chunk 58/58      15:23:40\n",
      "Compiling a mastersolver      15:23:40\n",
      "Compiling chunk 1/52      15:23:45\n",
      "Compiling chunk 2/52      15:23:47\n",
      "Compiling chunk 3/52      15:23:49\n",
      "Compiling chunk 4/52      15:23:50\n",
      "Compiling chunk 5/52      15:23:52\n",
      "Compiling chunk 6/52      15:23:54\n",
      "Compiling chunk 7/52      15:23:55\n",
      "Compiling chunk 8/52      15:23:57\n",
      "Compiling chunk 9/52      15:23:59\n",
      "Compiling chunk 10/52      15:24:01\n",
      "Compiling chunk 11/52      15:24:03\n",
      "Compiling chunk 12/52      15:24:05\n",
      "Compiling chunk 13/52      15:24:07\n",
      "Compiling chunk 14/52      15:24:08\n",
      "Compiling chunk 15/52      15:24:10\n",
      "Compiling chunk 16/52      15:24:11\n",
      "Compiling chunk 17/52      15:24:13\n",
      "Compiling chunk 18/52      15:24:15\n",
      "Compiling chunk 19/52      15:24:16\n",
      "Compiling chunk 20/52      15:24:18\n",
      "Compiling chunk 21/52      15:24:20\n",
      "Compiling chunk 22/52      15:24:22\n",
      "Compiling chunk 23/52      15:24:24\n",
      "Compiling chunk 24/52      15:24:26\n",
      "Compiling chunk 25/52      15:24:29\n",
      "Compiling chunk 26/52      15:24:30\n",
      "Compiling chunk 27/52      15:24:32\n",
      "Compiling chunk 28/52      15:24:35\n",
      "Compiling chunk 29/52      15:24:37\n",
      "Compiling chunk 30/52      15:24:39\n",
      "Compiling chunk 31/52      15:24:42\n",
      "Compiling chunk 32/52      15:24:43\n",
      "Compiling chunk 33/52      15:24:46\n",
      "Compiling chunk 34/52      15:24:47\n",
      "Compiling chunk 35/52      15:24:48\n",
      "Compiling chunk 36/52      15:24:49\n",
      "Compiling chunk 37/52      15:24:51\n",
      "Compiling chunk 38/52      15:24:53\n",
      "Compiling chunk 39/52      15:24:54\n",
      "Compiling chunk 40/52      15:24:55\n",
      "Compiling chunk 41/52      15:24:57\n",
      "Compiling chunk 42/52      15:24:59\n",
      "Compiling chunk 43/52      15:25:00\n",
      "Compiling chunk 44/52      15:25:02\n",
      "Compiling chunk 45/52      15:25:03\n",
      "Compiling chunk 46/52      15:25:06\n",
      "Compiling chunk 47/52      15:25:07\n",
      "Compiling chunk 48/52      15:25:08\n",
      "Compiling chunk 49/52      15:25:09\n",
      "Compiling chunk 50/52      15:25:11\n",
      "Compiling chunk 51/52      15:25:13\n",
      "Compiling chunk 52/52      15:25:15\n",
      "Compiling a mastersolver      15:25:16\n"
     ]
    }
   ],
   "source": [
    "basedf = madam(bank,2018,2030,max_iterations=100,alfa=0.3,solver='sim1d',silent=1,init=False,ljit = turbo,chunk=30)"
   ]
  },
  {
   "cell_type": "markdown",
   "metadata": {
    "slideshow": {
     "slide_type": "slide"
    }
   },
   "source": [
    "## Define a interface to experiments\n",
    "\n",
    "The next cell defines interactive widget. \n",
    "\n",
    "You can add additional variables using by adding extra entries to the slidedef dictionary "
   ]
  },
  {
   "cell_type": "code",
   "execution_count": 5,
   "metadata": {},
   "outputs": [
    {
     "data": {
      "application/vnd.jupyter.widget-view+json": {
       "model_id": "3d817a387f8946e69cea89616fe5c01a",
       "version_major": 2,
       "version_minor": 0
      },
      "text/plain": [
       "VBox(children=(HBox(children=(Label(value='Input new parameter ', layout=Layout(width='52%')), Label(value='Al…"
      ]
     },
     "metadata": {},
     "output_type": "display_data"
    },
    {
     "data": {
      "application/vnd.jupyter.widget-view+json": {
       "model_id": "72172d5f65264e0d909392e29839fac8",
       "version_major": 2,
       "version_minor": 0
      },
      "text/plain": [
       "VBox(children=(Tab(children=(VBox(children=(Tab(children=(Output(), Output(), Output(), Output()), _titles={'0…"
      ]
     },
     "metadata": {},
     "output_type": "display_data"
    }
   ],
   "source": [
    "# ADAM Variable descriptions \n",
    "vtrans = {'ENL'  :'Balance of Payment, surplus','UL':'Unemployment','FY':'Real GDP',\n",
    "         'TFN_O' :'Public surplus','TFN_OY':'Public surplus, Percent of GDP'}\n",
    "\n",
    "# Define some input fields \n",
    "slidedef = {'Value added tax rate':                {'var':'TG','value':-0.0,'min':-0.1, 'max':0.1,'op':'+'},\n",
    "            'Extra labour supply, 1000 ':          {'var':'UQ','value':0,'min':-8,    'max':8,   'op':'+','step':1},\n",
    "            }\n",
    "# Now call the input widget to display the input\n",
    "input = madam.inputwidget(2018,2030,slidedef=slidedef\n",
    "                   ,showout=True,varpat='FY ENL UL TFN_O TFN_OY',trans=vtrans)"
   ]
  },
  {
   "cell_type": "markdown",
   "metadata": {},
   "source": [
    "## Attributions to the results from changed variables"
   ]
  },
  {
   "cell_type": "code",
   "execution_count": 6,
   "metadata": {
    "scrolled": false
   },
   "outputs": [
    {
     "name": "stdout",
     "output_type": "stream",
     "text": [
      "No variables to attribute to \n",
      "TOTDEKOMP made\n"
     ]
    },
    {
     "data": {
      "text/plain": [
       "'Nothing to attribute'"
      ]
     },
     "metadata": {},
     "output_type": "display_data"
    }
   ],
   "source": [
    "display(madam.get_att_gui(desdic=vtrans))"
   ]
  },
  {
   "cell_type": "markdown",
   "metadata": {
    "slideshow": {
     "slide_type": "slide"
    }
   },
   "source": [
    "## Attributions to an equation from its input. \n",
    "You can decide how many levels back in the dependency tree you want to calculate the attributions "
   ]
  },
  {
   "cell_type": "code",
   "execution_count": 7,
   "metadata": {},
   "outputs": [
    {
     "data": {
      "application/vnd.jupyter.widget-view+json": {
       "model_id": "d16c54d61ffc4073a61ea10add3adffb",
       "version_major": 2,
       "version_minor": 0
      },
      "text/plain": [
       "interactive(children=(Dropdown(description='Variable', index=1469, options=('AFCO', 'AFCP', 'AFE', 'AFIBH', 'A…"
      ]
     },
     "metadata": {},
     "output_type": "display_data"
    }
   ],
   "source": [
    "@interact(Threshold = (0.0,10.0,1.))\n",
    "def explain(Variable  = Dropdown(options = sorted(madam.endogene),value='FY'),\n",
    "            Pct       = Checkbox(description='Percent growth',value=False),\n",
    "            Periode   = Dropdown(options = madam.current_per),\n",
    "            Threshold = 0.0):\n",
    "    mj.get_frml_latex(madam,Variable)\n",
    "    madam.dekomp_plot(Variable,pct=Pct,threshold=Threshold)\n",
    "    madam.dekomp_plot_per(Variable,pct=Pct,threshold=Threshold,per=Periode,sort=True)\n"
   ]
  },
  {
   "cell_type": "code",
   "execution_count": 8,
   "metadata": {},
   "outputs": [
    {
     "data": {
      "application/vnd.jupyter.widget-view+json": {
       "model_id": "78c16df1234842639f740289adc80858",
       "version_major": 2,
       "version_minor": 0
      },
      "text/plain": [
       "interactive(children=(Dropdown(description='Variable', index=1469, options=('AFCO', 'AFCP', 'AFE', 'AFIBH', 'A…"
      ]
     },
     "metadata": {},
     "output_type": "display_data"
    }
   ],
   "source": [
    "@interact\n",
    "def explain(Variable=Dropdown(options = sorted(madam.endogene),value='FY'),\n",
    "            Levels=[0,1,2,3]):\n",
    "    mj.get_frml_latex(madam,Variable)\n",
    "    _ = madam.explain(Variable,up=Levels,svg=1,dec=2)"
   ]
  },
  {
   "cell_type": "code",
   "execution_count": 9,
   "metadata": {},
   "outputs": [
    {
     "data": {
      "application/vnd.jupyter.widget-view+json": {
       "model_id": "f596ea1a1a7c48d5b1246454a7ffa525",
       "version_major": 2,
       "version_minor": 0
      },
      "text/plain": [
       "interactive(children=(Dropdown(description='Variable', index=1469, options=('AFCO', 'AFCP', 'AFE', 'AFIBH', 'A…"
      ]
     },
     "metadata": {},
     "output_type": "display_data"
    }
   ],
   "source": [
    "@interact\n",
    "def draw(Variable=Dropdown(options = sorted(madam.endogene),value='FY'),\n",
    "        up    =Dropdown(options = [0,1,2,3,4],value=1),\n",
    "        down = Dropdown(options = [0,1,2,3,4],value=1)):\n",
    "    mj.get_frml_latex(madam,Variable)\n",
    "    madam.draw(Variable,up=up,down=down,lag=True,svg=1,HR=0)"
   ]
  },
  {
   "cell_type": "markdown",
   "metadata": {
    "slideshow": {
     "slide_type": "slide"
    }
   },
   "source": [
    "## Now try turbo = 1 \n",
    "Edit the cell above where turbo is set to 0 and change it to 1\n",
    "\n",
    "Then run the notebook again. This will trigger a just in time compilation by the NUMBA library. The compilation will take time, but the simulation will be much faster.  "
   ]
  }
 ],
 "metadata": {
  "kernelspec": {
   "display_name": "Python 3",
   "language": "python",
   "name": "python3"
  },
  "language_info": {
   "codemirror_mode": {
    "name": "ipython",
    "version": 3
   },
   "file_extension": ".py",
   "mimetype": "text/x-python",
   "name": "python",
   "nbconvert_exporter": "python",
   "pygments_lexer": "ipython3",
   "version": "3.7.5"
  },
  "toc": {
   "base_numbering": 1,
   "nav_menu": {},
   "number_sections": true,
   "sideBar": true,
   "skip_h1_title": false,
   "title_cell": "Table of Contents",
   "title_sidebar": "Contents",
   "toc_cell": false,
   "toc_position": {},
   "toc_section_display": true,
   "toc_window_display": false
  },
  "varInspector": {
   "cols": {
    "lenName": 16,
    "lenType": 16,
    "lenVar": 40
   },
   "kernels_config": {
    "python": {
     "delete_cmd_postfix": "",
     "delete_cmd_prefix": "del ",
     "library": "var_list.py",
     "varRefreshCmd": "print(var_dic_list())"
    },
    "r": {
     "delete_cmd_postfix": ") ",
     "delete_cmd_prefix": "rm(",
     "library": "var_list.r",
     "varRefreshCmd": "cat(var_dic_list()) "
    }
   },
   "oldHeight": 134.43022200000001,
   "position": {
    "height": "156.55px",
    "left": "1033.67px",
    "right": "20px",
    "top": "238px",
    "width": "612.183px"
   },
   "types_to_exclude": [
    "module",
    "function",
    "builtin_function_or_method",
    "instance",
    "_Feature"
   ],
   "varInspector_section_display": "block",
   "window_display": true
  }
 },
 "nbformat": 4,
 "nbformat_minor": 2
}
